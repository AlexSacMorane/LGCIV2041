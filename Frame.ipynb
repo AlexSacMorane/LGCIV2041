{
  "nbformat": 4,
  "nbformat_minor": 0,
  "metadata": {
    "colab": {
      "provenance": [],
      "toc_visible": true,
      "authorship_tag": "ABX9TyOtyFLFQwPGeDdubPeT6oRo",
      "include_colab_link": true
    },
    "kernelspec": {
      "name": "python3",
      "display_name": "Python 3"
    },
    "language_info": {
      "name": "python"
    }
  },
  "cells": [
    {
      "cell_type": "markdown",
      "metadata": {
        "id": "view-in-github",
        "colab_type": "text"
      },
      "source": [
        "<a href=\"https://colab.research.google.com/github/AlexSacMorane/LGCIV2041/blob/main/Frame.ipynb\" target=\"_parent\"><img src=\"https://colab.research.google.com/assets/colab-badge.svg\" alt=\"Open In Colab\"/></a>"
      ]
    },
    {
      "cell_type": "markdown",
      "source": [
        "# Application of the displacement method to solve frame structures\n",
        "\n",
        "This code was originally prepared for the course LGCIV1023 (Stabilité des Constructions), on Decembre 3 2019\n",
        "\n",
        "Igor Bouckaert, João Pacheco de Almeida, Martin Steinmetz\n",
        "\n",
        "Adapted for the course \"Nonlinear Response Analysis\", Rose, Pavia, Italy, in May 2021\n",
        "\n",
        "Adapted for the course LGCIV2041 (Numerical Analysis of Civil Engineering Structures) by João Pacheco de Almeida on February 1 2023\n"
      ],
      "metadata": {
        "id": "EZh4kGKb1LLl"
      }
    },
    {
      "cell_type": "markdown",
      "source": [
        "# 0: INTRODUCTION\n",
        "\n",
        "This code written for Python / Google Colaboraty / Jupyter notebook aims to go step by step through a numerical solution of a frame structure with the stiffness or displacement method.\n",
        "\n",
        "To do this, simply run each cell of code one after the other and check what each one does.\n",
        "\n",
        "**IMPORTANT**\n",
        "\n",
        "Before starting, it is also necessary to run all the cells signaled with the DEFINITIONS section within this section header, which define the different functions and libraries that will be used in the rest of the code.\n"
      ],
      "metadata": {
        "id": "xg3KtoM31hfj"
      }
    },
    {
      "cell_type": "markdown",
      "source": [
        "## DEFINITIONS\n",
        "Import the required libraries"
      ],
      "metadata": {
        "id": "boN8333I15tB"
      }
    },
    {
      "cell_type": "code",
      "source": [
        "import numpy as np\n",
        "import matplotlib.pyplot as plt\n",
        "from numpy.linalg import inv"
      ],
      "metadata": {
        "id": "Zv03n2gB2Iz4"
      },
      "execution_count": 31,
      "outputs": []
    },
    {
      "cell_type": "markdown",
      "source": [
        "Display of the element undeformed configuration based on the connectivity (incidence) matrix"
      ],
      "metadata": {
        "id": "7J6vyVcX2LXP"
      }
    },
    {
      "cell_type": "code",
      "source": [
        "def PlotUndeformed(coord, connect) :\n",
        "\n",
        "    for i in range(len(connect)) :\n",
        "        plt.plot( [coord[0][connect[i][0]] , coord[0][connect[i][1]]] ,\n",
        "                [coord[1][connect[i][0]] , coord[1][connect[i][1]]] ,\n",
        "                '#000000' )\n",
        "\n",
        "    plt.plot(Coord[0], Coord[1], 'ro')\n",
        "\n",
        "    for i in range(len(coord[1])) :\n",
        "        plt.annotate(str(i), (coord[0][i], coord[1][i]))\n",
        "\n",
        "    plt.show()"
      ],
      "metadata": {
        "id": "Z2ivTJxo2QOm"
      },
      "execution_count": 32,
      "outputs": []
    },
    {
      "cell_type": "markdown",
      "source": [
        "Display of the deformed configuration of the element"
      ],
      "metadata": {
        "id": "I6VLpYWW2TlY"
      }
    },
    {
      "cell_type": "code",
      "source": [
        "def PlotDeformed(coord, connect, displ, scale) :\n",
        "\n",
        "    coord_def = coord + displ * scale\n",
        "\n",
        "    for i in range(len(connect)) :\n",
        "        plt.plot( [coord[0][connect[i][0]] , coord[0][connect[i][1]]] ,\n",
        "                [coord[1][connect[i][0]] , coord[1][connect[i][1]]] ,\n",
        "                '#000000' )\n",
        "        plt.plot([coord_def[0][connect[i][0]] , coord_def[0][connect[i][1]]] ,\n",
        "                [coord_def[1][connect[i][0]] , coord_def[1][connect[i][1]]] ,\n",
        "                'r-', linewidth=0.5)\n",
        "\n",
        "    plt.plot(coord[0], coord[1], 'ro')\n",
        "\n",
        "    for i in range(len(coord[1])) :\n",
        "        plt.annotate(str(i), (coord[0][i], coord[1][i]))\n",
        "\n",
        "    plt.show()"
      ],
      "metadata": {
        "id": "yzGa7yvk2Wco"
      },
      "execution_count": 33,
      "outputs": []
    },
    {
      "cell_type": "markdown",
      "source": [
        "Display of the shear forces"
      ],
      "metadata": {
        "id": "NBzgvq922b2x"
      }
    },
    {
      "cell_type": "code",
      "source": [
        "def PlotShear(coord, connect, Shear) :\n",
        "\n",
        "    for i in range(len(connect)) :\n",
        "        plt.plot( [coord[0][connect[i][0]] , coord[0][connect[i][1]]] ,\n",
        "                [coord[1][connect[i][0]] , coord[1][connect[i][1]]] ,\n",
        "                '#000000' )\n",
        "\n",
        "    plt.plot(coord[0], coord[1], 'ro')\n",
        "\n",
        "    for i in range(len(connect)) :\n",
        "        plt.plot( [coord[0][connect[i][0]], coord[0][connect[i][1]]],\n",
        "                [coord[1][connect[i][0]]+ Shear[i][0], coord[1][connect[i][1]]+ Shear[i][1]] ,\n",
        "                'g' )\n",
        "        if not (i == len(connect) or i == 0) :\n",
        "            plt.plot([coord[0][connect[i][0]], coord[0][connect[i][0]]],\n",
        "                [coord[1][connect[i][0]]+ Shear[i-1][1], coord[1][connect[i][1]]+ Shear[i][0]] ,\n",
        "                'g' )\n",
        "        elif i == 0 :\n",
        "            plt.plot([coord[0][connect[i][0]], coord[0][connect[i][0]]],\n",
        "                [coord[1][connect[i][0]], coord[1][connect[i][1]]+ Shear[i][0]] ,\n",
        "                'g' )\n",
        "        if i == len(connect) - 1 :\n",
        "            plt.plot([coord[0][connect[i][1]], coord[0][connect[i][1]]],\n",
        "                [coord[1][connect[i][1]]+ Shear[i][1], coord[1][connect[i][1]]],\n",
        "                'g' )\n",
        "\n",
        "def PlotBending(coord, connect, Bending, Shear) :\n",
        "\n",
        "    for i in range(len(connect)) :\n",
        "        plt.plot( [coord[0][connect[i][0]] , coord[0][connect[i][1]]] ,\n",
        "                [coord[1][connect[i][0]] , coord[1][connect[i][1]]] ,\n",
        "                '#000000' )\n",
        "\n",
        "    plt.plot(coord[0], coord[1], 'ro')\n",
        "    Starting_point = 0\n",
        "\n",
        "    for i in range(len(connect)) :\n",
        "        L = abs(coord[0][connect[i][1]] - coord[0][connect[i][0]])\n",
        "        x = np.linspace(0, L)\n",
        "        a =  - (Shear[i][1] - Shear[i][0]) / (2*L)\n",
        "        b =  - Shear[i][0]\n",
        "        c = Bending[i][0]\n",
        "        M = a * x ** 2 + b * x + c\n",
        "\n",
        "        plt.plot(x+Starting_point,M,'r')\n",
        "\n",
        "        Starting_point += L\n",
        "\n",
        "        if not (i == len(connect) or i == 0) :\n",
        "            plt.plot([coord[0][connect[i][0]], coord[0][connect[i][0]]],\n",
        "                [coord[1][connect[i][0]]+ Bending[i-1][1], coord[1][connect[i][1]]+ Bending[i][0]] ,\n",
        "                'r' )\n",
        "        elif i == 0 :\n",
        "            plt.plot([coord[0][connect[i][0]], coord[0][connect[i][0]]],\n",
        "                [coord[1][connect[i][0]], coord[1][connect[i][1]]+ Bending[i][0]] ,\n",
        "                'r' )\n",
        "        if i == len(connect) - 1 :\n",
        "            plt.plot([coord[0][connect[i][1]], coord[0][connect[i][1]]],\n",
        "                [coord[1][connect[i][1]]+ Bending[i][1], coord[1][connect[i][1]]],\n",
        "                'r' )"
      ],
      "metadata": {
        "id": "MqRKymvR2fdy"
      },
      "execution_count": 34,
      "outputs": []
    },
    {
      "cell_type": "markdown",
      "source": [
        "# 1: Input\n",
        "\n",
        "All parameters that need to be set by the user are listed in this section with # USER"
      ],
      "metadata": {
        "id": "VqxUcKSc2mFR"
      }
    },
    {
      "cell_type": "markdown",
      "source": [
        "## Bridge"
      ],
      "metadata": {
        "id": "QLGfnE063Wx8"
      }
    },
    {
      "cell_type": "code",
      "source": [
        "# Material\n",
        "E = 35e9 # [N/m^2]\n",
        "A = 50e-4 # [m^2]\n",
        "I = 15000e-8 # [m^4]\n",
        "AE_Elem = np.array([A*E, A*E, A*E, A*E, A*E])\n",
        "EI_Elem = np.array([E*I, E*I, E*I, E*I, E*I])\n",
        "\n",
        "# Coordinates of the nodes: x in the first line and y in the second line, in [m].\n",
        "Coord = np.array([[0, 30, 80, 110, 30, 80],\n",
        "                  [12.5, 12.5, 12.5, 12.5, 0, 5]])\n",
        "\n",
        "# Connections between the nodes\n",
        "Connect = np.array([[0, 1],\n",
        "                    [1, 2],\n",
        "                    [2, 3],\n",
        "                    [4, 1],\n",
        "                    [5, 2]])\n",
        "\n",
        "PlotUndeformed(Coord, Connect) # Display of nodes"
      ],
      "metadata": {
        "colab": {
          "base_uri": "https://localhost:8080/",
          "height": 430
        },
        "id": "G8OghF5f3aJA",
        "outputId": "58fc8563-57ad-478e-9029-d69fd98b0e82"
      },
      "execution_count": 35,
      "outputs": [
        {
          "output_type": "display_data",
          "data": {
            "text/plain": [
              "<Figure size 640x480 with 1 Axes>"
            ],
            "image/png": "[encoded data removed]"
          },
          "metadata": {}
        }
      ]
    },
    {
      "cell_type": "markdown",
      "source": [
        "## Total number of degrees of freedom + numbering"
      ],
      "metadata": {
        "id": "wrwAVD_o3sW2"
      }
    },
    {
      "cell_type": "code",
      "source": [
        "No_Ddl = len(Coord[1])*3  # 3 DoF per node\n",
        "Num_Ddl = np.arange(No_Ddl) # Indexing starts at 0 in Python\n",
        "print('The structure has ' + str(No_Ddl) + ' degrees of freedom')\n",
        "\n",
        "#Defining the type of Element : 6 or 5 DoFs (5 - to complete in Assignment)\n",
        "Elem_Types = np.array([6, 6, 6, 6, 6])\n",
        "\n",
        "# Total number of elements\n",
        "No_Elem = len(Connect)\n",
        "print(\"The structure is composed of \" + str(No_Elem) + \" elements.\")\n",
        "\n",
        "# Fixed degrees of freedom\n",
        "Fixed_DoF = np.array([1, 10, 12, 13, 14, 15, 16, 17])\n",
        "\n",
        "# Free degrees of freedom\n",
        "Free_DoF = np.delete(Num_Ddl, Fixed_DoF)\n",
        "\n",
        "print('Free DoF',Free_DoF)"
      ],
      "metadata": {
        "colab": {
          "base_uri": "https://localhost:8080/"
        },
        "id": "Z9tjtFja4Sms",
        "outputId": "2f7ad722-75d2-4585-bd67-71c44f552931"
      },
      "execution_count": 36,
      "outputs": [
        {
          "output_type": "stream",
          "name": "stdout",
          "text": [
            "The structure has 18 degrees of freedom\n",
            "The structure is composed of 5 elements.\n",
            "Free DoF [ 0  2  3  4  5  6  7  8  9 11]\n"
          ]
        }
      ]
    },
    {
      "cell_type": "markdown",
      "source": [
        "## Nodal loads"
      ],
      "metadata": {
        "id": "4tI1pJb24Uyg"
      }
    },
    {
      "cell_type": "code",
      "source": [
        "# Initialization\n",
        "P = np.zeros(No_Ddl)\n",
        "\n",
        "# Forces applied to degrees of freedom\n",
        "# in [N] and [m]\n",
        "P_f = np.array([0, 0, -300e3, 0, 0, -150e3, 0, 0, 0, 0])\n",
        "\n",
        "# Building other vectors:\n",
        "P[Free_DoF] = P_f"
      ],
      "metadata": {
        "id": "kVgAE8GP4klx"
      },
      "execution_count": 37,
      "outputs": []
    },
    {
      "cell_type": "markdown",
      "source": [
        "## Other"
      ],
      "metadata": {
        "id": "HWpfIYir48u9"
      }
    },
    {
      "cell_type": "code",
      "source": [
        "# Variable used to magnify the plot of deformed shape, if needed\n",
        "Scale = 500"
      ],
      "metadata": {
        "id": "xYiaw5Jn4-ml"
      },
      "execution_count": 38,
      "outputs": []
    },
    {
      "cell_type": "markdown",
      "source": [
        "# 2: Computations"
      ],
      "metadata": {
        "id": "L2y9yjsA5Qvy"
      }
    },
    {
      "cell_type": "markdown",
      "source": [
        "## Phase 1: Initialization of vectors and matrices"
      ],
      "metadata": {
        "id": "6jIO6e_45fra"
      }
    },
    {
      "cell_type": "code",
      "source": [
        "# Initialization of the vector of structural displacements\n",
        "U = np.zeros(No_Ddl)\n",
        "# The displacement vector corresponding to the fixed degrees of freedom is a zero vector\n",
        "U_d = U[Fixed_DoF]\n",
        "\n",
        "# Initialization of the local and global stiffness matrices of the elements, and of the structural stiffness matrix\n",
        "K_str = np.zeros((No_Ddl, No_Ddl))\n",
        "k_elem_loc = np.zeros((No_Elem,6,6))  # MODIFIE\n",
        "k_elem_glob = np.zeros((No_Elem,6,6))\n",
        "\n",
        "# Initialization of the matrices containing :\n",
        "# 1. The length of the elements\n",
        "L_Elem = np.zeros(No_Elem)\n",
        "# 2. Rotation matrix for each element\n",
        "r_C = np.zeros((No_Elem,6,6)) #MODIFIE\n",
        "# 3. Assembly matrix\n",
        "Assemblage = np.zeros((No_Elem, 6))\n"
      ],
      "metadata": {
        "id": "bxKokLul5kzx"
      },
      "execution_count": 39,
      "outputs": []
    },
    {
      "cell_type": "markdown",
      "source": [
        "## Phase 2: Elements' length, rotation matrices, and assembly matrix\n",
        "Loop over the elements to calculate their respective lengths, rotation matrices, and assembly matrix"
      ],
      "metadata": {
        "id": "Vvby_wYg5pek"
      }
    },
    {
      "cell_type": "code",
      "source": [
        "for i in range(No_Elem) :\n",
        "\n",
        "    # 1. Element's length\n",
        "    L_x = Coord[0][Connect[i][1]] - Coord[0][Connect[i][0]]  # Length in x\n",
        "    L_y = Coord[1][Connect[i][1]] - Coord[1][Connect[i][0]]  # Length in y\n",
        "    L_Elem[i] = np.sqrt(L_x**2 + L_y**2)\n",
        "\n",
        "     # 2. Rotation matrices [[cos sin 0 0],[0 0 cos sin]]\n",
        "    sin = L_y / L_Elem[i] # Sine of the rotation angle of truss element i\n",
        "    cos = L_x / L_Elem[i] # Cosine of the rotation angle of truss element i\n",
        "    r_C[i] = np.array([[cos, sin, 0, 0, 0, 0],\n",
        "                       [-sin, cos, 0, 0, 0, 0],\n",
        "                       [0, 0, 1, 0, 0, 0],\n",
        "                       [0, 0, 0, cos, sin, 0],\n",
        "                       [0, 0, 0, -sin, cos, 0],\n",
        "                       [0, 0, 0, 0, 0, 1]])  #MODIFIE\n",
        "\n",
        "    # Auxiliary matrices for the assembly: positioning of local matrices in the global matrix\n",
        "    Assemblage[i] = np.array([Connect[i][0]*3,\n",
        "                              Connect[i][0]*3+1,\n",
        "                              Connect[i][0]*3+2,\n",
        "                              Connect[i][1]*3,\n",
        "                              Connect[i][1]*3+1,\n",
        "                              Connect[i][1]*3+2])\n",
        "    Assemblage = Assemblage.astype(int)"
      ],
      "metadata": {
        "id": "UEodBhlv5vn0"
      },
      "execution_count": 40,
      "outputs": []
    },
    {
      "cell_type": "markdown",
      "source": [
        "## Phase 3: Computation of local stiffness matrices\n",
        "Loop through the elements to calculate their respective local stiffness matrices in the local (k_loc) and global (k_glob) reference system, followed by assembly into the structural stiffness matrix\n",
        "NOTE: the matrix product is written '@' in Python"
      ],
      "metadata": {
        "id": "2NKqjLur5zqr"
      }
    },
    {
      "cell_type": "code",
      "source": [
        "for elem in range(No_Elem) :\n",
        "\n",
        "    # Stiffness matrices in the local reference system, 6 DoF\n",
        "    if Elem_Types[elem] == 6 :\n",
        "        k_elem_loc[elem] = np.array([[AE_Elem[elem]/L_Elem[elem], 0, 0, -AE_Elem[elem]/L_Elem[elem], 0, 0],\n",
        "                                     [0, 12*EI_Elem[elem]/L_Elem[elem]**3,  6*EI_Elem[elem]/L_Elem[elem]**2, 0,  -12*EI_Elem[elem]/L_Elem[elem]**3,  6*EI_Elem[elem]/L_Elem[elem]**2],\n",
        "                                     [0, 6*EI_Elem[elem]/L_Elem[elem]**2,   4*EI_Elem[elem]/L_Elem[elem],   0,   -6*EI_Elem[elem]/L_Elem[elem]**2,   2*EI_Elem[elem]/L_Elem[elem]],\n",
        "                                     [-AE_Elem[elem]/L_Elem[elem], 0, 0, AE_Elem[elem]/L_Elem[elem], 0, 0],\n",
        "                                     [0, -12*EI_Elem[elem]/L_Elem[elem]**3, -6*EI_Elem[elem]/L_Elem[elem]**2, 0,  12*EI_Elem[elem]/L_Elem[elem]**3,   -6*EI_Elem[elem]/L_Elem[elem]**2],\n",
        "                                     [0, 6*EI_Elem[elem]/L_Elem[elem]**2,   2*EI_Elem[elem]/L_Elem[elem],  0,    -6*EI_Elem[elem]/L_Elem[elem]**2,   4*EI_Elem[elem]/L_Elem[elem]]])  #MODIFIE\n",
        "\n",
        "    # TO COMPLETE\n",
        "    # Stiffness matrices in the local reference system, 5 DoF\n",
        "    # elif Elem_Types[elem] == 5 :\n",
        "\n",
        "\n",
        "    # Stiffness matrices in the global reference system\n",
        "    k_elem_glob[elem] = np.transpose(r_C[elem]) @ k_elem_loc[elem] @ r_C[elem]\n",
        "\n",
        "    # Assembly of the global structural stiffness matrix\n",
        "    for j in range(len(k_elem_glob[elem])) :\n",
        "        for k in range(len(k_elem_glob[elem])) :\n",
        "            K_str[Assemblage[elem][j]][Assemblage[elem][k]] += k_elem_glob[elem][j][k]"
      ],
      "metadata": {
        "id": "aJfLL51O53ko"
      },
      "execution_count": 41,
      "outputs": []
    },
    {
      "cell_type": "markdown",
      "source": [
        "## Phase 4: Partitioning of the stiffness matrix"
      ],
      "metadata": {
        "id": "AuQUvJCN57ls"
      }
    },
    {
      "cell_type": "code",
      "source": [
        "# Sub-matrix for the free DoFs:\n",
        "K_ff = K_str[Free_DoF[:,None], Free_DoF[None,:]]\n",
        "\n",
        "# Sub-matrix for the fixed DoFs:\n",
        "K_dd = K_str[Fixed_DoF[:,None], Fixed_DoF[None,:]]\n",
        "\n",
        "# Sub-matrices K_fd et K_df:\n",
        "K_fd = K_str[Free_DoF[:,None], Fixed_DoF[None,:]]\n",
        "K_df = np.transpose(K_fd)\n"
      ],
      "metadata": {
        "id": "hBhCi9Jv6BL-"
      },
      "execution_count": 42,
      "outputs": []
    },
    {
      "cell_type": "markdown",
      "source": [
        "## Phase 5: Displacement's equation\n",
        "\n",
        "Solving the displacement equation to find the value of the free degrees of freedom"
      ],
      "metadata": {
        "id": "AAbJqCER6EO6"
      }
    },
    {
      "cell_type": "code",
      "source": [
        "U_f = inv(K_ff) @ (P_f - K_fd @ U_d)\n",
        "\n",
        "# Completing the global displacement vector:\n",
        "U[Free_DoF] = U_f\n",
        "U[Fixed_DoF] = U_d\n",
        "print('Displacement',U)"
      ],
      "metadata": {
        "colab": {
          "base_uri": "https://localhost:8080/"
        },
        "id": "ZzEy76mx6I5D",
        "outputId": "e0064038-ac11-488c-dfff-aa1be5199010"
      },
      "execution_count": 43,
      "outputs": [
        {
          "output_type": "stream",
          "name": "stdout",
          "text": [
            "Displacement [-5.23093526e+00  0.00000000e+00 -1.70715165e-01 -5.23093526e+00\n",
            " -5.59530545e-04  3.41374377e-01 -5.17376611e+00  2.58824798e-05\n",
            "  7.54506629e-01 -5.17376611e+00  0.00000000e+00 -3.77254609e-01\n",
            "  0.00000000e+00  0.00000000e+00  0.00000000e+00  0.00000000e+00\n",
            "  0.00000000e+00  0.00000000e+00]\n"
          ]
        }
      ]
    },
    {
      "cell_type": "markdown",
      "source": [
        "## Phase 6: Reactions' equation\n",
        "\n",
        "Solving the reactions' equation to find the unknown reactions in the structure"
      ],
      "metadata": {
        "id": "LvWZEGYH6N1b"
      }
    },
    {
      "cell_type": "code",
      "source": [
        "P_d = K_df @ U_f + K_dd @ U_d\n",
        "\n",
        "# Completing the vector of nodal forces:\n",
        "P[Fixed_DoF] = P_d\n",
        "\n",
        "# Computing the structural resisting forces:\n",
        "P_r = K_str @ U"
      ],
      "metadata": {
        "id": "xkAJPa0-6SRP"
      },
      "execution_count": 44,
      "outputs": []
    },
    {
      "cell_type": "markdown",
      "source": [
        "## Phase 7: Computation of internal forces"
      ],
      "metadata": {
        "id": "UeOL4mgN6UPR"
      }
    },
    {
      "cell_type": "code",
      "source": [
        "# Initialization of vectors u_loc et p_loc\n",
        "\n",
        "u_loc = np.zeros((No_Elem, 6))  #MODIFIE\n",
        "p_loc = np.zeros((No_Elem, 6))  #MODIFIE\n",
        "\n",
        "for i in range(No_Elem) :\n",
        "    u_loc[i] = r_C[i] @ U[Assemblage[i]]\n",
        "    p_loc[i] = k_elem_loc[i] @ u_loc[i]\n",
        "\n",
        "    print('Element',i,'Internal forces',p_loc[i])"
      ],
      "metadata": {
        "colab": {
          "base_uri": "https://localhost:8080/"
        },
        "id": "frlAmm336eSO",
        "outputId": "575f1d0b-de09-4c28-c2a7-da09533c83b2"
      },
      "execution_count": 45,
      "outputs": [
        {
          "output_type": "stream",
          "name": "stdout",
          "text": [
            "Element 0 Internal forces [ 0.00000000e+00  5.97437800e+03 -1.45519152e-11  0.00000000e+00\n",
            " -5.97437800e+03  1.79231340e+05]\n",
            "Element 1 Internal forces [-200092.02676095   13807.80562956  301816.25434008  200092.02676095\n",
            "  -13807.80562956  388574.02713797]\n",
            "Element 2 Internal forces [     0.          13203.881102   396116.43306005      0.\n",
            " -13203.881102        0.        ]\n",
            "Element 3 Internal forces [   7833.42763268  -99907.97323905 -767802.07124161   -7833.42763268\n",
            "   99907.97323905 -481047.59424654]\n",
            "Element 4 Internal forces [-6.03924528e+02 -3.50092027e+05 -1.84099974e+06  6.03924528e+02\n",
            "  3.50092027e+05 -7.84690460e+05]\n"
          ]
        }
      ]
    },
    {
      "cell_type": "markdown",
      "source": [
        "# 3: Display\n",
        "Display of the internal forces per element"
      ],
      "metadata": {
        "id": "oHz_w5Bl6h8u"
      }
    },
    {
      "cell_type": "code",
      "execution_count": 46,
      "metadata": {
        "colab": {
          "base_uri": "https://localhost:8080/",
          "height": 497
        },
        "id": "Aav7EY_y053Z",
        "outputId": "d1786b81-fe7f-4bb7-e9b0-6dc04d8e1947"
      },
      "outputs": [
        {
          "output_type": "stream",
          "name": "stdout",
          "text": [
            "Axial force in element 4 = 0.6kN\n",
            "Shear force in element 4 = [[-350. -350.]]kN\n",
            "Bending moment in element 4 = [[-1841.   785.]]kN.m\n"
          ]
        },
        {
          "output_type": "display_data",
          "data": {
            "text/plain": [
              "<Figure size 640x480 with 1 Axes>"
            ],
            "image/png": "[encoded data removed]"
          },
          "metadata": {}
        }
      ],
      "source": [
        "#Choice of the element to display\n",
        "\n",
        "Elem_ID_to_display = 4\n",
        "\n",
        "Shear = np.zeros((1,2))\n",
        "Bending = np.zeros((1,2))\n",
        "\n",
        "Shear[0][0] = p_loc[Elem_ID_to_display][1]\n",
        "Shear[0][1] = -p_loc[Elem_ID_to_display][4]\n",
        "Bending[0][0] = p_loc[Elem_ID_to_display][2]\n",
        "Bending[0][1] = -p_loc[Elem_ID_to_display][5]\n",
        "N = p_loc[Elem_ID_to_display][3]\n",
        "\n",
        "# Display of axial force\n",
        "print(\"Axial force in element {} = {}kN\".format(Elem_ID_to_display, np.around(N/1000,2)))\n",
        "\n",
        "# Display of shear force\n",
        "PlotShear(np.array([[0, L_Elem[Elem_ID_to_display]],[0,0]]), np.array([[0,1]]), Shear)\n",
        "print(\"Shear force in element {} = {}kN\".format(Elem_ID_to_display, np.round(Shear/1000,0)))\n",
        "\n",
        "# Display of bending moment\n",
        "PlotBending(np.array([[0, L_Elem[Elem_ID_to_display]],[0,0]]), np.array([[0,1]]), Bending, Shear)\n",
        "print(\"Bending moment in element {} = {}kN.m\".format(Elem_ID_to_display, np.round(Bending/1000,0)))\n"
      ]
    }
  ]
}